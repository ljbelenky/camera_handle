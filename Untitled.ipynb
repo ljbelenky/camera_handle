{
 "cells": [
  {
   "cell_type": "code",
   "execution_count": 1,
   "id": "f24fad6c",
   "metadata": {},
   "outputs": [],
   "source": [
    "import numpy as np"
   ]
  },
  {
   "cell_type": "code",
   "execution_count": 4,
   "id": "6d14c041",
   "metadata": {},
   "outputs": [
    {
     "data": {
      "text/plain": [
       "2.5612777651081102"
      ]
     },
     "execution_count": 4,
     "metadata": {},
     "output_type": "execute_result"
    }
   ],
   "source": [
    "x = 147.629/360\n",
    "a = 3.14\n",
    "i = (1-x**2)*4*np.pi**2\n",
    "j = i-2*a**2\n",
    "k = j/2\n",
    "b = np.sqrt(k)\n",
    "b"
   ]
  },
  {
   "cell_type": "code",
   "execution_count": null,
   "id": "3bdc23eb",
   "metadata": {},
   "outputs": [],
   "source": []
  }
 ],
 "metadata": {
  "kernelspec": {
   "display_name": "Python 3 (ipykernel)",
   "language": "python",
   "name": "python3"
  },
  "language_info": {
   "codemirror_mode": {
    "name": "ipython",
    "version": 3
   },
   "file_extension": ".py",
   "mimetype": "text/x-python",
   "name": "python",
   "nbconvert_exporter": "python",
   "pygments_lexer": "ipython3",
   "version": "3.10.9"
  }
 },
 "nbformat": 4,
 "nbformat_minor": 5
}
